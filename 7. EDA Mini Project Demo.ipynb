{
 "cells": [
  {
   "cell_type": "code",
   "execution_count": 1,
   "id": "9cf8ff34-665e-4a5a-ae16-96d5f2115f5f",
   "metadata": {},
   "outputs": [],
   "source": [
    "# Import required libraries\n",
    "import pandas as pd\n",
    "import numpy as np\n",
    "import matplotlib.pyplot as plt\n",
    "import seaborn as sns"
   ]
  },
  {
   "cell_type": "code",
   "execution_count": 4,
   "id": "71235e08-4b35-492d-8992-cee4b8b5ee54",
   "metadata": {},
   "outputs": [],
   "source": [
    "# Load dataset\n",
    "flights = pd.read_csv('data/flights_dirty.csv')"
   ]
  },
  {
   "cell_type": "code",
   "execution_count": 5,
   "id": "d7efa9e7-c059-4b43-8b39-032c9696d8b4",
   "metadata": {},
   "outputs": [
    {
     "data": {
      "text/html": [
       "<div>\n",
       "<style scoped>\n",
       "    .dataframe tbody tr th:only-of-type {\n",
       "        vertical-align: middle;\n",
       "    }\n",
       "\n",
       "    .dataframe tbody tr th {\n",
       "        vertical-align: top;\n",
       "    }\n",
       "\n",
       "    .dataframe thead th {\n",
       "        text-align: right;\n",
       "    }\n",
       "</style>\n",
       "<table border=\"1\" class=\"dataframe\">\n",
       "  <thead>\n",
       "    <tr style=\"text-align: right;\">\n",
       "      <th></th>\n",
       "      <th>year</th>\n",
       "      <th>month</th>\n",
       "      <th>passengers</th>\n",
       "    </tr>\n",
       "  </thead>\n",
       "  <tbody>\n",
       "    <tr>\n",
       "      <th>0</th>\n",
       "      <td>1949</td>\n",
       "      <td>jan</td>\n",
       "      <td>114.388770</td>\n",
       "    </tr>\n",
       "    <tr>\n",
       "      <th>1</th>\n",
       "      <td>1949</td>\n",
       "      <td>Feb</td>\n",
       "      <td>116.704857</td>\n",
       "    </tr>\n",
       "    <tr>\n",
       "      <th>2</th>\n",
       "      <td>1949</td>\n",
       "      <td>Mar</td>\n",
       "      <td>129.126454</td>\n",
       "    </tr>\n",
       "    <tr>\n",
       "      <th>3</th>\n",
       "      <td>1949</td>\n",
       "      <td>Apr</td>\n",
       "      <td>126.892509</td>\n",
       "    </tr>\n",
       "    <tr>\n",
       "      <th>4</th>\n",
       "      <td>1949</td>\n",
       "      <td>May</td>\n",
       "      <td>122.699105</td>\n",
       "    </tr>\n",
       "  </tbody>\n",
       "</table>\n",
       "</div>"
      ],
      "text/plain": [
       "   year month  passengers\n",
       "0  1949  jan   114.388770\n",
       "1  1949   Feb  116.704857\n",
       "2  1949   Mar  129.126454\n",
       "3  1949  Apr   126.892509\n",
       "4  1949   May  122.699105"
      ]
     },
     "execution_count": 5,
     "metadata": {},
     "output_type": "execute_result"
    }
   ],
   "source": [
    "# Check the top of DataFrame\n",
    "flights.head()"
   ]
  },
  {
   "cell_type": "code",
   "execution_count": 6,
   "id": "f80f7756-480e-4a87-a191-86d9364490cb",
   "metadata": {},
   "outputs": [
    {
     "data": {
      "text/html": [
       "<div>\n",
       "<style scoped>\n",
       "    .dataframe tbody tr th:only-of-type {\n",
       "        vertical-align: middle;\n",
       "    }\n",
       "\n",
       "    .dataframe tbody tr th {\n",
       "        vertical-align: top;\n",
       "    }\n",
       "\n",
       "    .dataframe thead th {\n",
       "        text-align: right;\n",
       "    }\n",
       "</style>\n",
       "<table border=\"1\" class=\"dataframe\">\n",
       "  <thead>\n",
       "    <tr style=\"text-align: right;\">\n",
       "      <th></th>\n",
       "      <th>year</th>\n",
       "      <th>month</th>\n",
       "      <th>passengers</th>\n",
       "    </tr>\n",
       "  </thead>\n",
       "  <tbody>\n",
       "    <tr>\n",
       "      <th>149</th>\n",
       "      <td>1955</td>\n",
       "      <td>Feb</td>\n",
       "      <td>224.654338</td>\n",
       "    </tr>\n",
       "    <tr>\n",
       "      <th>150</th>\n",
       "      <td>1950</td>\n",
       "      <td>Jul</td>\n",
       "      <td>166.140905</td>\n",
       "    </tr>\n",
       "    <tr>\n",
       "      <th>151</th>\n",
       "      <td>1958</td>\n",
       "      <td>Oct</td>\n",
       "      <td>367.306509</td>\n",
       "    </tr>\n",
       "    <tr>\n",
       "      <th>152</th>\n",
       "      <td>1955</td>\n",
       "      <td>Jul</td>\n",
       "      <td>362.328765</td>\n",
       "    </tr>\n",
       "    <tr>\n",
       "      <th>153</th>\n",
       "      <td>1955</td>\n",
       "      <td>May</td>\n",
       "      <td>268.410765</td>\n",
       "    </tr>\n",
       "  </tbody>\n",
       "</table>\n",
       "</div>"
      ],
      "text/plain": [
       "     year month  passengers\n",
       "149  1955   Feb  224.654338\n",
       "150  1950   Jul  166.140905\n",
       "151  1958   Oct  367.306509\n",
       "152  1955   Jul  362.328765\n",
       "153  1955   May  268.410765"
      ]
     },
     "execution_count": 6,
     "metadata": {},
     "output_type": "execute_result"
    }
   ],
   "source": [
    "# Check the bottom of DataFrame\n",
    "flights.tail()"
   ]
  },
  {
   "cell_type": "markdown",
   "id": "c2841bb4-f548-4984-a418-6cf6e11f7595",
   "metadata": {},
   "source": [
    "> The `passengers` column is `float` instead of an `int` data type\n",
    ">\n",
    "> Inconsistency in the string format in the `month` column"
   ]
  },
  {
   "cell_type": "code",
   "execution_count": 8,
   "id": "c08f7dc6-f4eb-4fd7-8b99-78ead08787cc",
   "metadata": {},
   "outputs": [
    {
     "name": "stdout",
     "output_type": "stream",
     "text": [
      "<class 'pandas.core.frame.DataFrame'>\n",
      "RangeIndex: 154 entries, 0 to 153\n",
      "Data columns (total 3 columns):\n",
      " #   Column      Non-Null Count  Dtype  \n",
      "---  ------      --------------  -----  \n",
      " 0   year        154 non-null    object \n",
      " 1   month       154 non-null    object \n",
      " 2   passengers  136 non-null    float64\n",
      "dtypes: float64(1), object(2)\n",
      "memory usage: 3.7+ KB\n"
     ]
    }
   ],
   "source": [
    "# Check the summary information\n",
    "flights.info()"
   ]
  },
  {
   "cell_type": "code",
   "execution_count": 9,
   "id": "889164b6-bb7d-49d4-8402-d751f8736128",
   "metadata": {},
   "outputs": [
    {
     "data": {
      "text/html": [
       "<div>\n",
       "<style scoped>\n",
       "    .dataframe tbody tr th:only-of-type {\n",
       "        vertical-align: middle;\n",
       "    }\n",
       "\n",
       "    .dataframe tbody tr th {\n",
       "        vertical-align: top;\n",
       "    }\n",
       "\n",
       "    .dataframe thead th {\n",
       "        text-align: right;\n",
       "    }\n",
       "</style>\n",
       "<table border=\"1\" class=\"dataframe\">\n",
       "  <thead>\n",
       "    <tr style=\"text-align: right;\">\n",
       "      <th></th>\n",
       "      <th>passengers</th>\n",
       "    </tr>\n",
       "  </thead>\n",
       "  <tbody>\n",
       "    <tr>\n",
       "      <th>count</th>\n",
       "      <td>136.000000</td>\n",
       "    </tr>\n",
       "    <tr>\n",
       "      <th>mean</th>\n",
       "      <td>299.633655</td>\n",
       "    </tr>\n",
       "    <tr>\n",
       "      <th>std</th>\n",
       "      <td>171.510392</td>\n",
       "    </tr>\n",
       "    <tr>\n",
       "      <th>min</th>\n",
       "      <td>-15.748963</td>\n",
       "    </tr>\n",
       "    <tr>\n",
       "      <th>25%</th>\n",
       "      <td>189.203060</td>\n",
       "    </tr>\n",
       "    <tr>\n",
       "      <th>50%</th>\n",
       "      <td>275.432094</td>\n",
       "    </tr>\n",
       "    <tr>\n",
       "      <th>75%</th>\n",
       "      <td>366.067432</td>\n",
       "    </tr>\n",
       "    <tr>\n",
       "      <th>max</th>\n",
       "      <td>1503.245434</td>\n",
       "    </tr>\n",
       "  </tbody>\n",
       "</table>\n",
       "</div>"
      ],
      "text/plain": [
       "        passengers\n",
       "count   136.000000\n",
       "mean    299.633655\n",
       "std     171.510392\n",
       "min     -15.748963\n",
       "25%     189.203060\n",
       "50%     275.432094\n",
       "75%     366.067432\n",
       "max    1503.245434"
      ]
     },
     "execution_count": 9,
     "metadata": {},
     "output_type": "execute_result"
    }
   ],
   "source": [
    "# Check the descriptive statistics\n",
    "flights.describe()"
   ]
  },
  {
   "cell_type": "code",
   "execution_count": 10,
   "id": "c8ee5233-0b6f-45c7-8cae-2a9cd03e1e5a",
   "metadata": {},
   "outputs": [
    {
     "data": {
      "text/html": [
       "<div>\n",
       "<style scoped>\n",
       "    .dataframe tbody tr th:only-of-type {\n",
       "        vertical-align: middle;\n",
       "    }\n",
       "\n",
       "    .dataframe tbody tr th {\n",
       "        vertical-align: top;\n",
       "    }\n",
       "\n",
       "    .dataframe thead th {\n",
       "        text-align: right;\n",
       "    }\n",
       "</style>\n",
       "<table border=\"1\" class=\"dataframe\">\n",
       "  <thead>\n",
       "    <tr style=\"text-align: right;\">\n",
       "      <th></th>\n",
       "      <th>year</th>\n",
       "      <th>month</th>\n",
       "    </tr>\n",
       "  </thead>\n",
       "  <tbody>\n",
       "    <tr>\n",
       "      <th>count</th>\n",
       "      <td>154</td>\n",
       "      <td>154</td>\n",
       "    </tr>\n",
       "    <tr>\n",
       "      <th>unique</th>\n",
       "      <td>13</td>\n",
       "      <td>32</td>\n",
       "    </tr>\n",
       "    <tr>\n",
       "      <th>top</th>\n",
       "      <td>1955</td>\n",
       "      <td>Feb</td>\n",
       "    </tr>\n",
       "    <tr>\n",
       "      <th>freq</th>\n",
       "      <td>16</td>\n",
       "      <td>14</td>\n",
       "    </tr>\n",
       "  </tbody>\n",
       "</table>\n",
       "</div>"
      ],
      "text/plain": [
       "        year month\n",
       "count    154   154\n",
       "unique    13    32\n",
       "top     1955   Feb\n",
       "freq      16    14"
      ]
     },
     "execution_count": 10,
     "metadata": {},
     "output_type": "execute_result"
    }
   ],
   "source": [
    "flights.describe(include='O')"
   ]
  },
  {
   "cell_type": "markdown",
   "id": "d5cd618b-5f15-4d10-b9ec-ef929d2a010a",
   "metadata": {},
   "source": [
    "> There is the possibilities of an outliter with a maximum of 1503\n",
    "\n",
    "> There is a negative value (-15) in passengers which is bad data\n",
    "\n",
    "> from the dataset information available there should be 12 uniques years (1949- 1960). This shows 13"
   ]
  },
  {
   "cell_type": "code",
   "execution_count": 12,
   "id": "6a71006b-ae01-4b55-91f7-2fe6c268a8f7",
   "metadata": {},
   "outputs": [
    {
     "data": {
      "text/plain": [
       "array(['1949', 'unknown', '1950', '1951', '1952', '1953', '1954', '1955',\n",
       "       '1956', '1957', '1958', '1959', '1960'], dtype=object)"
      ]
     },
     "execution_count": 12,
     "metadata": {},
     "output_type": "execute_result"
    }
   ],
   "source": [
    "# investigate the year column\n",
    "flights['year'].unique()"
   ]
  },
  {
   "cell_type": "markdown",
   "id": "16cbc95f-f18c-495b-8465-1c85f3c553f9",
   "metadata": {},
   "source": [
    "> There is a 'unknown' value for year"
   ]
  },
  {
   "cell_type": "code",
   "execution_count": 14,
   "id": "6f482e2b-2731-4571-a1c7-5344108c290b",
   "metadata": {},
   "outputs": [
    {
     "data": {
      "text/plain": [
       "year           0\n",
       "month          0\n",
       "passengers    18\n",
       "dtype: int64"
      ]
     },
     "execution_count": 14,
     "metadata": {},
     "output_type": "execute_result"
    }
   ],
   "source": [
    " # confirm missing values\n",
    "flights.isna().sum(0)"
   ]
  },
  {
   "cell_type": "code",
   "execution_count": 15,
   "id": "6336fff0-e49f-4f32-9d29-b3e2b9868daa",
   "metadata": {},
   "outputs": [
    {
     "data": {
      "text/plain": [
       "year           0.000000\n",
       "month          0.000000\n",
       "passengers    11.688312\n",
       "dtype: float64"
      ]
     },
     "execution_count": 15,
     "metadata": {},
     "output_type": "execute_result"
    }
   ],
   "source": [
    "# check the percentage of missing values\n",
    "flights.isna().sum() / len(flights) * 100"
   ]
  },
  {
   "cell_type": "code",
   "execution_count": 21,
   "id": "ed4a4326-2602-4a34-9be5-8815c3a9b7b4",
   "metadata": {},
   "outputs": [
    {
     "data": {
      "text/plain": [
       "<Axes: >"
      ]
     },
     "execution_count": 21,
     "metadata": {},
     "output_type": "execute_result"
    },
    {
     "data": {
      "image/png": "[encoded data removed]",
      "text/plain": [
       "<Figure size 640x480 with 2 Axes>"
      ]
     },
     "metadata": {},
     "output_type": "display_data"
    }
   ],
   "source": [
    "# Visualize the missing value\n",
    "sns.heatmap(flights.isna())"
   ]
  },
  {
   "cell_type": "code",
   "execution_count": 16,
   "id": "e884398f-91cf-4d39-9369-df0e2e7dc191",
   "metadata": {},
   "outputs": [
    {
     "data": {
      "text/plain": [
       "0      False\n",
       "1      False\n",
       "2      False\n",
       "3      False\n",
       "4      False\n",
       "       ...  \n",
       "149     True\n",
       "150     True\n",
       "151     True\n",
       "152     True\n",
       "153     True\n",
       "Length: 154, dtype: bool"
      ]
     },
     "execution_count": 16,
     "metadata": {},
     "output_type": "execute_result"
    }
   ],
   "source": [
    "# check for duplicates values\n",
    "flights.duplicated(['year', 'month'])"
   ]
  },
  {
   "cell_type": "code",
   "execution_count": 17,
   "id": "a10034fd-f7ef-4a6d-85df-30a13b3d208a",
   "metadata": {},
   "outputs": [
    {
     "data": {
      "text/plain": [
       "np.int64(6)"
      ]
     },
     "execution_count": 17,
     "metadata": {},
     "output_type": "execute_result"
    }
   ],
   "source": [
    "# How many duplictates?\n",
    "flights.duplicated(['year', 'month']).sum() # rmember True = 1"
   ]
  },
  {
   "cell_type": "code",
   "execution_count": 18,
   "id": "5d7cdd92-7590-4213-bf11-8477039b1527",
   "metadata": {},
   "outputs": [
    {
     "data": {
      "text/plain": [
       "False    148\n",
       "True       6\n",
       "Name: count, dtype: int64"
      ]
     },
     "execution_count": 18,
     "metadata": {},
     "output_type": "execute_result"
    }
   ],
   "source": [
    "flights.duplicated(['year', 'month']).value_counts()"
   ]
  },
  {
   "cell_type": "markdown",
   "id": "96b3a017-d68b-4567-9ef0-8541c64813f9",
   "metadata": {},
   "source": [
    "> Outcome: Duplicates detected, requires us to remove."
   ]
  },
  {
   "cell_type": "code",
   "execution_count": 19,
   "id": "098d1378-7569-49f9-96c9-b1919516b131",
   "metadata": {},
   "outputs": [
    {
     "data": {
      "text/plain": [
       "month\n",
       "Feb     14\n",
       "Aug     12\n",
       "Jul     12\n",
       "May     11\n",
       "Dec     11\n",
       "Sep     11\n",
       "Jan     10\n",
       "Nov     10\n",
       "Oct      9\n",
       "Apr      9\n",
       "Jun      9\n",
       "Mar      9\n",
       "mar      3\n",
       "OCT      3\n",
       "NOV      2\n",
       "oct      2\n",
       "apr      2\n",
       "nov      1\n",
       "Apr      1\n",
       "jan      1\n",
       "aug      1\n",
       "MAY      1\n",
       "JUN      1\n",
       "MAY      1\n",
       "jul      1\n",
       "Jan      1\n",
       "dec      1\n",
       "sep      1\n",
       "Jul      1\n",
       "jun      1\n",
       "Sep      1\n",
       "Jun      1\n",
       "Name: count, dtype: int64"
      ]
     },
     "execution_count": 19,
     "metadata": {},
     "output_type": "execute_result"
    }
   ],
   "source": [
    "# check the values of month column\n",
    "flights['month'].value_counts()"
   ]
  },
  {
   "cell_type": "code",
   "execution_count": null,
   "id": "54d989dd-b91a-4f23-a42c-8fd268712543",
   "metadata": {},
   "outputs": [],
   "source": [
    "# Use groupby to see the mean, count median\n",
    "flights.groupby('month').agg(['mean', 'count', 'median'])"
   ]
  },
  {
   "cell_type": "code",
   "execution_count": 20,
   "id": "dcfe7c85-f5de-46ae-8f3f-0cc463ab4fa9",
   "metadata": {},
   "outputs": [
    {
     "data": {
      "text/html": [
       "<div>\n",
       "<style scoped>\n",
       "    .dataframe tbody tr th:only-of-type {\n",
       "        vertical-align: middle;\n",
       "    }\n",
       "\n",
       "    .dataframe tbody tr th {\n",
       "        vertical-align: top;\n",
       "    }\n",
       "\n",
       "    .dataframe thead th {\n",
       "        text-align: right;\n",
       "    }\n",
       "</style>\n",
       "<table border=\"1\" class=\"dataframe\">\n",
       "  <thead>\n",
       "    <tr style=\"text-align: right;\">\n",
       "      <th></th>\n",
       "      <th>mean</th>\n",
       "      <th>count</th>\n",
       "      <th>median</th>\n",
       "    </tr>\n",
       "    <tr>\n",
       "      <th>month</th>\n",
       "      <th></th>\n",
       "      <th></th>\n",
       "      <th></th>\n",
       "    </tr>\n",
       "  </thead>\n",
       "  <tbody>\n",
       "    <tr>\n",
       "      <th>Apr</th>\n",
       "      <td>255.058381</td>\n",
       "      <td>9</td>\n",
       "      <td>239.237007</td>\n",
       "    </tr>\n",
       "    <tr>\n",
       "      <th>Apr</th>\n",
       "      <td>126.892509</td>\n",
       "      <td>1</td>\n",
       "      <td>126.892509</td>\n",
       "    </tr>\n",
       "    <tr>\n",
       "      <th>Aug</th>\n",
       "      <td>368.199646</td>\n",
       "      <td>11</td>\n",
       "      <td>339.967974</td>\n",
       "    </tr>\n",
       "    <tr>\n",
       "      <th>Dec</th>\n",
       "      <td>261.386275</td>\n",
       "      <td>11</td>\n",
       "      <td>233.393368</td>\n",
       "    </tr>\n",
       "    <tr>\n",
       "      <th>Feb</th>\n",
       "      <td>237.072422</td>\n",
       "      <td>12</td>\n",
       "      <td>228.228183</td>\n",
       "    </tr>\n",
       "    <tr>\n",
       "      <th>JUN</th>\n",
       "      <td>268.702678</td>\n",
       "      <td>1</td>\n",
       "      <td>268.702678</td>\n",
       "    </tr>\n",
       "    <tr>\n",
       "      <th>Jan</th>\n",
       "      <td>391.008909</td>\n",
       "      <td>10</td>\n",
       "      <td>301.180138</td>\n",
       "    </tr>\n",
       "    <tr>\n",
       "      <th>Jan</th>\n",
       "      <td>NaN</td>\n",
       "      <td>0</td>\n",
       "      <td>NaN</td>\n",
       "    </tr>\n",
       "    <tr>\n",
       "      <th>Jul</th>\n",
       "      <td>367.283194</td>\n",
       "      <td>10</td>\n",
       "      <td>363.398796</td>\n",
       "    </tr>\n",
       "    <tr>\n",
       "      <th>Jul</th>\n",
       "      <td>418.227856</td>\n",
       "      <td>1</td>\n",
       "      <td>418.227856</td>\n",
       "    </tr>\n",
       "    <tr>\n",
       "      <th>Jun</th>\n",
       "      <td>406.303864</td>\n",
       "      <td>7</td>\n",
       "      <td>377.885249</td>\n",
       "    </tr>\n",
       "    <tr>\n",
       "      <th>Jun</th>\n",
       "      <td>471.801819</td>\n",
       "      <td>1</td>\n",
       "      <td>471.801819</td>\n",
       "    </tr>\n",
       "    <tr>\n",
       "      <th>MAY</th>\n",
       "      <td>229.874165</td>\n",
       "      <td>1</td>\n",
       "      <td>229.874165</td>\n",
       "    </tr>\n",
       "    <tr>\n",
       "      <th>MAY</th>\n",
       "      <td>175.102741</td>\n",
       "      <td>1</td>\n",
       "      <td>175.102741</td>\n",
       "    </tr>\n",
       "    <tr>\n",
       "      <th>Mar</th>\n",
       "      <td>269.685687</td>\n",
       "      <td>9</td>\n",
       "      <td>273.046910</td>\n",
       "    </tr>\n",
       "    <tr>\n",
       "      <th>May</th>\n",
       "      <td>279.768899</td>\n",
       "      <td>10</td>\n",
       "      <td>276.041438</td>\n",
       "    </tr>\n",
       "    <tr>\n",
       "      <th>NOV</th>\n",
       "      <td>233.857151</td>\n",
       "      <td>1</td>\n",
       "      <td>233.857151</td>\n",
       "    </tr>\n",
       "    <tr>\n",
       "      <th>Nov</th>\n",
       "      <td>251.748555</td>\n",
       "      <td>10</td>\n",
       "      <td>258.218223</td>\n",
       "    </tr>\n",
       "    <tr>\n",
       "      <th>OCT</th>\n",
       "      <td>212.311952</td>\n",
       "      <td>3</td>\n",
       "      <td>157.572438</td>\n",
       "    </tr>\n",
       "    <tr>\n",
       "      <th>Oct</th>\n",
       "      <td>290.632513</td>\n",
       "      <td>9</td>\n",
       "      <td>303.435173</td>\n",
       "    </tr>\n",
       "    <tr>\n",
       "      <th>Sep</th>\n",
       "      <td>271.022172</td>\n",
       "      <td>6</td>\n",
       "      <td>276.084780</td>\n",
       "    </tr>\n",
       "    <tr>\n",
       "      <th>Sep</th>\n",
       "      <td>404.036532</td>\n",
       "      <td>1</td>\n",
       "      <td>404.036532</td>\n",
       "    </tr>\n",
       "    <tr>\n",
       "      <th>apr</th>\n",
       "      <td>405.398762</td>\n",
       "      <td>2</td>\n",
       "      <td>405.398762</td>\n",
       "    </tr>\n",
       "    <tr>\n",
       "      <th>aug</th>\n",
       "      <td>174.615813</td>\n",
       "      <td>1</td>\n",
       "      <td>174.615813</td>\n",
       "    </tr>\n",
       "    <tr>\n",
       "      <th>dec</th>\n",
       "      <td>NaN</td>\n",
       "      <td>0</td>\n",
       "      <td>NaN</td>\n",
       "    </tr>\n",
       "    <tr>\n",
       "      <th>jan</th>\n",
       "      <td>114.388770</td>\n",
       "      <td>1</td>\n",
       "      <td>114.388770</td>\n",
       "    </tr>\n",
       "    <tr>\n",
       "      <th>jul</th>\n",
       "      <td>297.661795</td>\n",
       "      <td>1</td>\n",
       "      <td>297.661795</td>\n",
       "    </tr>\n",
       "    <tr>\n",
       "      <th>jun</th>\n",
       "      <td>435.119659</td>\n",
       "      <td>1</td>\n",
       "      <td>435.119659</td>\n",
       "    </tr>\n",
       "    <tr>\n",
       "      <th>mar</th>\n",
       "      <td>237.990664</td>\n",
       "      <td>2</td>\n",
       "      <td>237.990664</td>\n",
       "    </tr>\n",
       "    <tr>\n",
       "      <th>nov</th>\n",
       "      <td>NaN</td>\n",
       "      <td>0</td>\n",
       "      <td>NaN</td>\n",
       "    </tr>\n",
       "    <tr>\n",
       "      <th>oct</th>\n",
       "      <td>343.647237</td>\n",
       "      <td>2</td>\n",
       "      <td>343.647237</td>\n",
       "    </tr>\n",
       "    <tr>\n",
       "      <th>sep</th>\n",
       "      <td>311.827352</td>\n",
       "      <td>1</td>\n",
       "      <td>311.827352</td>\n",
       "    </tr>\n",
       "  </tbody>\n",
       "</table>\n",
       "</div>"
      ],
      "text/plain": [
       "             mean  count      median\n",
       "month                               \n",
       "Apr    255.058381      9  239.237007\n",
       "Apr    126.892509      1  126.892509\n",
       "Aug    368.199646     11  339.967974\n",
       "Dec    261.386275     11  233.393368\n",
       "Feb    237.072422     12  228.228183\n",
       "JUN    268.702678      1  268.702678\n",
       "Jan    391.008909     10  301.180138\n",
       "Jan           NaN      0         NaN\n",
       "Jul    367.283194     10  363.398796\n",
       "Jul    418.227856      1  418.227856\n",
       "Jun    406.303864      7  377.885249\n",
       "Jun    471.801819      1  471.801819\n",
       "MAY    229.874165      1  229.874165\n",
       "MAY    175.102741      1  175.102741\n",
       "Mar    269.685687      9  273.046910\n",
       "May    279.768899     10  276.041438\n",
       "NOV    233.857151      1  233.857151\n",
       "Nov    251.748555     10  258.218223\n",
       "OCT    212.311952      3  157.572438\n",
       "Oct    290.632513      9  303.435173\n",
       "Sep    271.022172      6  276.084780\n",
       "Sep    404.036532      1  404.036532\n",
       "apr    405.398762      2  405.398762\n",
       "aug    174.615813      1  174.615813\n",
       "dec           NaN      0         NaN\n",
       "jan    114.388770      1  114.388770\n",
       "jul    297.661795      1  297.661795\n",
       "jun    435.119659      1  435.119659\n",
       "mar    237.990664      2  237.990664\n",
       "nov           NaN      0         NaN\n",
       "oct    343.647237      2  343.647237\n",
       "sep    311.827352      1  311.827352"
      ]
     },
     "execution_count": 20,
     "metadata": {},
     "output_type": "execute_result"
    }
   ],
   "source": [
    "flights.groupby('month')['passengers'].agg(['mean', 'count', 'median'])"
   ]
  },
  {
   "cell_type": "code",
   "execution_count": null,
   "id": "1c0af339-4224-4162-b0e7-baf4d544126e",
   "metadata": {},
   "outputs": [],
   "source": [
    "> Inconsistent month labels needs to be corrected using - string manipulation "
   ]
  },
  {
   "cell_type": "code",
   "execution_count": null,
   "id": "ee63c434-5804-48c2-a9fd-f5e74eed1284",
   "metadata": {},
   "outputs": [],
   "source": []
  },
  {
   "cell_type": "code",
   "execution_count": null,
   "id": "8eb83bff-ef87-444c-aab9-aec2e5619d86",
   "metadata": {},
   "outputs": [],
   "source": []
  },
  {
   "cell_type": "code",
   "execution_count": null,
   "id": "e88861f8-acf1-4fb7-a0f1-a4d752b8c012",
   "metadata": {},
   "outputs": [],
   "source": []
  },
  {
   "cell_type": "code",
   "execution_count": null,
   "id": "03976d6d-9f0b-4d37-857a-98f84c299c70",
   "metadata": {},
   "outputs": [],
   "source": []
  },
  {
   "cell_type": "code",
   "execution_count": null,
   "id": "ef1833d0-aea2-4c55-be40-7ea6400848fd",
   "metadata": {},
   "outputs": [],
   "source": []
  },
  {
   "cell_type": "code",
   "execution_count": null,
   "id": "fd2cf0e2-8336-41d2-a516-0f1b209d483f",
   "metadata": {},
   "outputs": [],
   "source": []
  },
  {
   "cell_type": "code",
   "execution_count": null,
   "id": "264a5abf-9563-4495-a66e-4f11ba56d471",
   "metadata": {},
   "outputs": [],
   "source": []
  },
  {
   "cell_type": "code",
   "execution_count": null,
   "id": "e2129a51-2209-4115-95c3-75fe87eba98a",
   "metadata": {},
   "outputs": [],
   "source": []
  },
  {
   "cell_type": "code",
   "execution_count": null,
   "id": "994d76ec-4273-4147-aadb-d38cf59370ce",
   "metadata": {},
   "outputs": [],
   "source": []
  },
  {
   "cell_type": "code",
   "execution_count": null,
   "id": "c504d44b-c241-4ed4-8e7c-7912ded6bc3e",
   "metadata": {},
   "outputs": [],
   "source": []
  },
  {
   "cell_type": "code",
   "execution_count": null,
   "id": "35f71c8c-8954-48aa-880f-5adead9d42b6",
   "metadata": {},
   "outputs": [],
   "source": []
  },
  {
   "cell_type": "code",
   "execution_count": null,
   "id": "58c539ea-a827-43ff-8be3-8d84c71286f3",
   "metadata": {},
   "outputs": [],
   "source": []
  },
  {
   "cell_type": "code",
   "execution_count": null,
   "id": "8e047da8-c61d-4252-881a-468b4b6b94c6",
   "metadata": {},
   "outputs": [],
   "source": []
  },
  {
   "cell_type": "code",
   "execution_count": null,
   "id": "06b10f5e-a5e0-4079-9eb3-ae8ecec1ae59",
   "metadata": {},
   "outputs": [],
   "source": []
  },
  {
   "cell_type": "code",
   "execution_count": null,
   "id": "4202abf8-a570-44ce-9b72-c9438893f885",
   "metadata": {},
   "outputs": [],
   "source": []
  },
  {
   "cell_type": "code",
   "execution_count": null,
   "id": "649420ef-81f6-4af6-a962-4939d584481e",
   "metadata": {},
   "outputs": [],
   "source": []
  },
  {
   "cell_type": "code",
   "execution_count": null,
   "id": "66f9bab3-e9a5-4d62-82a0-9b49eda15811",
   "metadata": {},
   "outputs": [],
   "source": []
  },
  {
   "cell_type": "code",
   "execution_count": null,
   "id": "12e195ef-c2fa-49ed-b1fa-3a60deac7bf2",
   "metadata": {},
   "outputs": [],
   "source": []
  },
  {
   "cell_type": "code",
   "execution_count": null,
   "id": "0b67f7ae-a96a-45ac-92db-ad315d403138",
   "metadata": {},
   "outputs": [],
   "source": []
  },
  {
   "cell_type": "code",
   "execution_count": null,
   "id": "2ae90c10-b6a5-48cd-9638-13b1bd7192e4",
   "metadata": {},
   "outputs": [],
   "source": []
  },
  {
   "cell_type": "code",
   "execution_count": null,
   "id": "b8e18855-c597-4077-a10b-7aab7af95d8f",
   "metadata": {},
   "outputs": [],
   "source": []
  },
  {
   "cell_type": "code",
   "execution_count": null,
   "id": "d639780d-0816-4484-a498-d82c92fcbedd",
   "metadata": {},
   "outputs": [],
   "source": []
  },
  {
   "cell_type": "code",
   "execution_count": null,
   "id": "6660eeb9-d504-494b-94f7-822f972bf872",
   "metadata": {},
   "outputs": [],
   "source": []
  },
  {
   "cell_type": "code",
   "execution_count": null,
   "id": "36c60360-b1a1-48ac-a474-6937cb7c4d1a",
   "metadata": {},
   "outputs": [],
   "source": []
  },
  {
   "cell_type": "code",
   "execution_count": null,
   "id": "45ce13fa-5108-448e-8d8e-7b9c27f69be2",
   "metadata": {},
   "outputs": [],
   "source": []
  },
  {
   "cell_type": "code",
   "execution_count": null,
   "id": "b043347b-270e-467d-b0fa-18c829392e51",
   "metadata": {},
   "outputs": [],
   "source": []
  },
  {
   "cell_type": "code",
   "execution_count": null,
   "id": "b6a32b16-efab-4e33-a74e-51df6b1a4ac9",
   "metadata": {},
   "outputs": [],
   "source": []
  },
  {
   "cell_type": "code",
   "execution_count": null,
   "id": "33719459-7517-44df-83a9-6b9188db2a40",
   "metadata": {},
   "outputs": [],
   "source": []
  },
  {
   "cell_type": "code",
   "execution_count": null,
   "id": "37eb97eb-63df-482e-b5ef-3cf53e15a06d",
   "metadata": {},
   "outputs": [],
   "source": []
  },
  {
   "cell_type": "code",
   "execution_count": null,
   "id": "3b527392-8250-4a35-bd80-15e4455c6e20",
   "metadata": {},
   "outputs": [],
   "source": []
  },
  {
   "cell_type": "code",
   "execution_count": null,
   "id": "5551da10-f7b4-4732-a35a-4c2dc6389326",
   "metadata": {},
   "outputs": [],
   "source": []
  },
  {
   "cell_type": "code",
   "execution_count": null,
   "id": "dc20fd0d-6296-4ebd-99db-77faaa165ab8",
   "metadata": {},
   "outputs": [],
   "source": []
  },
  {
   "cell_type": "code",
   "execution_count": null,
   "id": "3f3a03ac-c975-4c7a-b5de-22f9f622863e",
   "metadata": {},
   "outputs": [],
   "source": []
  },
  {
   "cell_type": "code",
   "execution_count": null,
   "id": "2a83520a-6680-4029-b8e0-f99a17a62062",
   "metadata": {},
   "outputs": [],
   "source": []
  },
  {
   "cell_type": "code",
   "execution_count": null,
   "id": "d6a0272b-2ed1-4b1b-93a5-c486feddc9f6",
   "metadata": {},
   "outputs": [],
   "source": []
  },
  {
   "cell_type": "code",
   "execution_count": null,
   "id": "e452a97b-172e-4f9d-b47c-52fce0a8adb7",
   "metadata": {},
   "outputs": [],
   "source": []
  },
  {
   "cell_type": "code",
   "execution_count": null,
   "id": "39a68caa-61e6-40fc-8626-68665928d551",
   "metadata": {},
   "outputs": [],
   "source": []
  },
  {
   "cell_type": "code",
   "execution_count": null,
   "id": "479e0b59-eb93-4057-bc2d-1eef06214211",
   "metadata": {},
   "outputs": [],
   "source": []
  },
  {
   "cell_type": "code",
   "execution_count": null,
   "id": "fdc2c37e-4794-4cf0-9b6d-90e339c116fa",
   "metadata": {},
   "outputs": [],
   "source": []
  },
  {
   "cell_type": "code",
   "execution_count": null,
   "id": "826f0d31-bdb4-4402-af38-e832822ff8e2",
   "metadata": {},
   "outputs": [],
   "source": []
  },
  {
   "cell_type": "code",
   "execution_count": null,
   "id": "93321be4-a488-4fc3-bb81-c8664bd52c75",
   "metadata": {},
   "outputs": [],
   "source": []
  },
  {
   "cell_type": "code",
   "execution_count": null,
   "id": "c642135f-bd4a-4d4f-86db-26275fc51f12",
   "metadata": {},
   "outputs": [],
   "source": []
  }
 ],
 "metadata": {
  "kernelspec": {
   "display_name": "Python 3 (ipykernel)",
   "language": "python",
   "name": "python3"
  },
  "language_info": {
   "codemirror_mode": {
    "name": "ipython",
    "version": 3
   },
   "file_extension": ".py",
   "mimetype": "text/x-python",
   "name": "python",
   "nbconvert_exporter": "python",
   "pygments_lexer": "ipython3",
   "version": "3.13.5"
  }
 },
 "nbformat": 4,
 "nbformat_minor": 5
}
